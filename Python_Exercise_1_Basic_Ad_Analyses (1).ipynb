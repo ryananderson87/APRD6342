{
 "cells": [
  {
   "cell_type": "markdown",
   "metadata": {
    "colab_type": "text",
    "id": "f4hznprrTxMQ"
   },
   "source": [
    "### Answers to Questions:\n",
    "\n",
    "1: Saturday (0.0026286969333697923 is the Cheapest Day of the week, Friday (0.004096890719487211)is the most expensive.\n",
    "\n",
    "2: The strongest correlation to Amount Spent is Unique Clicks (0.8829931774784122). This means that the Unique Clicks is the most expensive most expensive to obtain.\n",
    "\n",
    "3: Reach most strongly predicts Unique clicks. This means that in order to obtain the most unique clicks it is better to show your ads to a wider audience as opposed to showing your ad to the same people multiple times (Frequency).\n",
    "\n",
    "\n"
   ]
  },
  {
   "cell_type": "code",
   "execution_count": null,
   "metadata": {
    "colab": {
     "base_uri": "https://localhost:8080/",
     "height": 561
    },
    "colab_type": "code",
    "id": "Om_o_HU6lVwi",
    "outputId": "c0501856-d198-4525-f2b0-52cc9b9653d1"
   },
   "outputs": [
    {
     "name": "stdout",
     "output_type": "stream",
     "text": [
      "Requirement already satisfied: arrow in /usr/local/lib/python3.6/dist-packages (0.15.4)\n",
      "Requirement already satisfied: python-dateutil in /usr/local/lib/python3.6/dist-packages (from arrow) (2.6.1)\n",
      "Requirement already satisfied: six>=1.5 in /usr/local/lib/python3.6/dist-packages (from python-dateutil->arrow) (1.12.0)\n",
      "Requirement already satisfied: numpy in /usr/local/lib/python3.6/dist-packages (1.17.4)\n",
      "Requirement already satisfied: statsmodels in /usr/local/lib/python3.6/dist-packages (0.10.1)\n",
      "Requirement already satisfied: patsy>=0.4.0 in /usr/local/lib/python3.6/dist-packages (from statsmodels) (0.5.1)\n",
      "Requirement already satisfied: pandas>=0.19 in /usr/local/lib/python3.6/dist-packages (from statsmodels) (0.25.3)\n",
      "Requirement already satisfied: scipy>=0.18 in /usr/local/lib/python3.6/dist-packages (from statsmodels) (1.3.2)\n",
      "Requirement already satisfied: numpy>=1.11 in /usr/local/lib/python3.6/dist-packages (from statsmodels) (1.17.4)\n",
      "Requirement already satisfied: six in /usr/local/lib/python3.6/dist-packages (from patsy>=0.4.0->statsmodels) (1.12.0)\n",
      "Requirement already satisfied: python-dateutil>=2.6.1 in /usr/local/lib/python3.6/dist-packages (from pandas>=0.19->statsmodels) (2.6.1)\n",
      "Requirement already satisfied: pytz>=2017.2 in /usr/local/lib/python3.6/dist-packages (from pandas>=0.19->statsmodels) (2018.9)\n"
     ]
    },
    {
     "data": {
      "text/plain": [
       "['Start Date',\n",
       " 'End Date',\n",
       " 'Account',\n",
       " 'Campaign Name',\n",
       " 'Reach',\n",
       " 'Frequency',\n",
       " 'Impressions',\n",
       " 'Clicks',\n",
       " 'Unique Clicks',\n",
       " 'Amount Spent (USD)',\n",
       " 'Page Likes',\n",
       " 'Page Engagement',\n",
       " 'Post Engagement',\n",
       " 'Post Likes',\n",
       " 'Post Comments',\n",
       " 'Post Shares',\n",
       " 'Photo Views',\n",
       " 'Website Clicks',\n",
       " 'Cost per Page Like (USD)',\n",
       " 'Cost per Page Engagement (USD)']"
      ]
     },
     "execution_count": 179,
     "metadata": {
      "tags": []
     },
     "output_type": "execute_result"
    }
   ],
   "source": [
    "#This code block is to get the notebook ready to go. We are also importing the data via a URL\n",
    "!pip install arrow\n",
    "!pip install numpy \n",
    "!pip install statsmodels #--upgrade git+https://github.com/statsmodels/statsmodels\n",
    "\n",
    "import numpy as np\n",
    "import statsmodels.api as sm\n",
    "import arrow\n",
    "import calendar\n",
    "import datetime as dt\n",
    "import pandas as pd\n",
    "\n",
    "DATA_URL = 'http://128.138.93.164/aprd6342/data/TravelPonyFacebook.csv'\n",
    "df = pd.read_csv(DATA_URL)\n",
    "\n",
    "list(df)"
   ]
  },
  {
   "cell_type": "code",
   "execution_count": null,
   "metadata": {
    "colab": {
     "base_uri": "https://localhost:8080/",
     "height": 136
    },
    "colab_type": "code",
    "id": "JXPflTu33DU8",
    "outputId": "90672963-13dc-4fdc-95e3-a2ae8fb67ec8"
   },
   "outputs": [
    {
     "name": "stdout",
     "output_type": "stream",
     "text": [
      "0.0029099769333124532\n",
      "0.003040039601778186\n",
      "0.002980820271366957\n",
      "0.003398311623555868\n",
      "0.004096890719487211\n",
      "0.0026286969333697923\n",
      "0.003687913293955785\n"
     ]
    }
   ],
   "source": [
    "# Question 1 - Saturday is the cheapest average cost per impression. The worst day is Friday.\n",
    "#First We are creating some columns based on other columns in the data set. We are also converting a date column to day of the week in a separate column.\n",
    "\n",
    "df['Cost Per Impression'] = df['Amount Spent (USD)']/df['Impressions']\n",
    "df['Start Date'] = pd.to_datetime(df['Start Date'])\n",
    "df['Dayofweek'] = pd.to_datetime(df['Start Date']).dt.dayofweek\n",
    "\n",
    "#Creating a temp table that sets the day of the week to a value\n",
    "tempMon = df[(df['Dayofweek'] == 0)]\n",
    "tempTue = df[(df['Dayofweek'] == 1)]\n",
    "tempWed = df[(df['Dayofweek'] == 2)]\n",
    "tempThu = df[(df['Dayofweek'] == 3)]\n",
    "tempFri = df[(df['Dayofweek'] == 4)]\n",
    "tempSat = df[(df['Dayofweek'] == 5)]\n",
    "tempSun = df[(df['Dayofweek'] == 6)]\n",
    "\n",
    "#Taking the mean of that temp table\n",
    "MonMean = tempMon['Cost Per Impression'].mean()\n",
    "TueMean = tempTue['Cost Per Impression'].mean()\n",
    "WedMean = tempWed['Cost Per Impression'].mean()\n",
    "ThuMean = tempThu['Cost Per Impression'].mean()\n",
    "FriMean = tempFri['Cost Per Impression'].mean()\n",
    "SatMean = tempSat['Cost Per Impression'].mean()\n",
    "SunMean = tempSun['Cost Per Impression'].mean()\n",
    "\n",
    "#Printing out the outputs of the means.\n",
    "print(MonMean)\n",
    "print(TueMean)\n",
    "print(WedMean)\n",
    "print(ThuMean)\n",
    "print(FriMean)\n",
    "print(SatMean)\n",
    "print(SunMean)\n"
   ]
  },
  {
   "cell_type": "code",
   "execution_count": null,
   "metadata": {
    "colab": {
     "base_uri": "https://localhost:8080/",
     "height": 85
    },
    "colab_type": "code",
    "id": "o1BYoAhnQrf1",
    "outputId": "3ce5632f-b12a-4fc2-c486-3de897e03dad"
   },
   "outputs": [
    {
     "name": "stdout",
     "output_type": "stream",
     "text": [
      "0.7031238065113837\n",
      "0.13020086992866314\n",
      "0.8829931774784122\n",
      "0.7576119292180449\n"
     ]
    }
   ],
   "source": [
    "#Printing the correlation of amount spent to each variable.\n",
    "print(df['Amount Spent (USD)'].corr(df['Reach']))\n",
    "print(df['Amount Spent (USD)'].corr(df['Frequency']))\n",
    "print(df['Amount Spent (USD)'].corr(df['Unique Clicks']))\n",
    "print(df['Amount Spent (USD)'].corr(df['Page Likes']))"
   ]
  },
  {
   "cell_type": "code",
   "execution_count": null,
   "metadata": {
    "colab": {
     "base_uri": "https://localhost:8080/",
     "height": 423
    },
    "colab_type": "code",
    "id": "Uegr6lT_SWYw",
    "outputId": "790b5524-64e4-4e78-e613-d46d11cc8e96"
   },
   "outputs": [
    {
     "data": {
      "text/html": [
       "<table class=\"simpletable\">\n",
       "<caption>OLS Regression Results</caption>\n",
       "<tr>\n",
       "  <th>Dep. Variable:</th>      <td>Unique Clicks</td>  <th>  R-squared (uncentered):</th>      <td>   0.539</td> \n",
       "</tr>\n",
       "<tr>\n",
       "  <th>Model:</th>                   <td>OLS</td>       <th>  Adj. R-squared (uncentered):</th> <td>   0.539</td> \n",
       "</tr>\n",
       "<tr>\n",
       "  <th>Method:</th>             <td>Least Squares</td>  <th>  F-statistic:       </th>          <td>   4334.</td> \n",
       "</tr>\n",
       "<tr>\n",
       "  <th>Date:</th>             <td>Thu, 14 Nov 2019</td> <th>  Prob (F-statistic):</th>           <td>  0.00</td>  \n",
       "</tr>\n",
       "<tr>\n",
       "  <th>Time:</th>                 <td>05:27:35</td>     <th>  Log-Likelihood:    </th>          <td> -16045.</td> \n",
       "</tr>\n",
       "<tr>\n",
       "  <th>No. Observations:</th>      <td>  3705</td>      <th>  AIC:               </th>          <td>3.209e+04</td>\n",
       "</tr>\n",
       "<tr>\n",
       "  <th>Df Residuals:</th>          <td>  3704</td>      <th>  BIC:               </th>          <td>3.210e+04</td>\n",
       "</tr>\n",
       "<tr>\n",
       "  <th>Df Model:</th>              <td>     1</td>      <th>                     </th>              <td> </td>    \n",
       "</tr>\n",
       "<tr>\n",
       "  <th>Covariance Type:</th>      <td>nonrobust</td>    <th>                     </th>              <td> </td>    \n",
       "</tr>\n",
       "</table>\n",
       "<table class=\"simpletable\">\n",
       "<tr>\n",
       "    <td></td>       <th>coef</th>     <th>std err</th>      <th>t</th>      <th>P>|t|</th>  <th>[0.025</th>    <th>0.975]</th>  \n",
       "</tr>\n",
       "<tr>\n",
       "  <th>Reach</th> <td>    0.0020</td> <td> 3.09e-05</td> <td>   65.832</td> <td> 0.000</td> <td>    0.002</td> <td>    0.002</td>\n",
       "</tr>\n",
       "</table>\n",
       "<table class=\"simpletable\">\n",
       "<tr>\n",
       "  <th>Omnibus:</th>       <td>4800.065</td> <th>  Durbin-Watson:     </th>  <td>   0.762</td>  \n",
       "</tr>\n",
       "<tr>\n",
       "  <th>Prob(Omnibus):</th>  <td> 0.000</td>  <th>  Jarque-Bera (JB):  </th> <td>5192547.294</td>\n",
       "</tr>\n",
       "<tr>\n",
       "  <th>Skew:</th>           <td> 6.420</td>  <th>  Prob(JB):          </th>  <td>    0.00</td>  \n",
       "</tr>\n",
       "<tr>\n",
       "  <th>Kurtosis:</th>       <td>185.951</td> <th>  Cond. No.          </th>  <td>    1.00</td>  \n",
       "</tr>\n",
       "</table><br/><br/>Warnings:<br/>[1] Standard Errors assume that the covariance matrix of the errors is correctly specified."
      ],
      "text/plain": [
       "<class 'statsmodels.iolib.summary.Summary'>\n",
       "\"\"\"\n",
       "                                 OLS Regression Results                                \n",
       "=======================================================================================\n",
       "Dep. Variable:          Unique Clicks   R-squared (uncentered):                   0.539\n",
       "Model:                            OLS   Adj. R-squared (uncentered):              0.539\n",
       "Method:                 Least Squares   F-statistic:                              4334.\n",
       "Date:                Thu, 14 Nov 2019   Prob (F-statistic):                        0.00\n",
       "Time:                        05:27:35   Log-Likelihood:                         -16045.\n",
       "No. Observations:                3705   AIC:                                  3.209e+04\n",
       "Df Residuals:                    3704   BIC:                                  3.210e+04\n",
       "Df Model:                           1                                                  \n",
       "Covariance Type:            nonrobust                                                  \n",
       "==============================================================================\n",
       "                 coef    std err          t      P>|t|      [0.025      0.975]\n",
       "------------------------------------------------------------------------------\n",
       "Reach          0.0020   3.09e-05     65.832      0.000       0.002       0.002\n",
       "==============================================================================\n",
       "Omnibus:                     4800.065   Durbin-Watson:                   0.762\n",
       "Prob(Omnibus):                  0.000   Jarque-Bera (JB):          5192547.294\n",
       "Skew:                           6.420   Prob(JB):                         0.00\n",
       "Kurtosis:                     185.951   Cond. No.                         1.00\n",
       "==============================================================================\n",
       "\n",
       "Warnings:\n",
       "[1] Standard Errors assume that the covariance matrix of the errors is correctly specified.\n",
       "\"\"\""
      ]
     },
     "execution_count": 183,
     "metadata": {
      "tags": []
     },
     "output_type": "execute_result"
    }
   ],
   "source": [
    "#Setting the x and y variables and then running the OLS against it.\n",
    "X = df['Reach']\n",
    "y = df['Unique Clicks']\n",
    "\n",
    "# Note the difference in argument order\n",
    "model = sm.OLS(y, X).fit()\n",
    "predictions = model.predict(X) # make the predictions by the model\n",
    "\n",
    "# Print out the statistics\n",
    "model.summary()"
   ]
  },
  {
   "cell_type": "code",
   "execution_count": null,
   "metadata": {
    "colab": {},
    "colab_type": "code",
    "id": "3MzidpJRWpV_"
   },
   "outputs": [],
   "source": []
  },
  {
   "cell_type": "code",
   "execution_count": null,
   "metadata": {
    "colab": {
     "base_uri": "https://localhost:8080/",
     "height": 423
    },
    "colab_type": "code",
    "id": "GQLMNCGEWq2O",
    "outputId": "6796914d-b1cc-4eb4-9423-02cdd6701c5f"
   },
   "outputs": [
    {
     "data": {
      "text/html": [
       "<table class=\"simpletable\">\n",
       "<caption>OLS Regression Results</caption>\n",
       "<tr>\n",
       "  <th>Dep. Variable:</th>      <td>Unique Clicks</td>  <th>  R-squared (uncentered):</th>      <td>   0.089</td> \n",
       "</tr>\n",
       "<tr>\n",
       "  <th>Model:</th>                   <td>OLS</td>       <th>  Adj. R-squared (uncentered):</th> <td>   0.089</td> \n",
       "</tr>\n",
       "<tr>\n",
       "  <th>Method:</th>             <td>Least Squares</td>  <th>  F-statistic:       </th>          <td>   363.1</td> \n",
       "</tr>\n",
       "<tr>\n",
       "  <th>Date:</th>             <td>Thu, 14 Nov 2019</td> <th>  Prob (F-statistic):</th>          <td>2.64e-77</td> \n",
       "</tr>\n",
       "<tr>\n",
       "  <th>Time:</th>                 <td>05:27:39</td>     <th>  Log-Likelihood:    </th>          <td> -17307.</td> \n",
       "</tr>\n",
       "<tr>\n",
       "  <th>No. Observations:</th>      <td>  3705</td>      <th>  AIC:               </th>          <td>3.462e+04</td>\n",
       "</tr>\n",
       "<tr>\n",
       "  <th>Df Residuals:</th>          <td>  3704</td>      <th>  BIC:               </th>          <td>3.462e+04</td>\n",
       "</tr>\n",
       "<tr>\n",
       "  <th>Df Model:</th>              <td>     1</td>      <th>                     </th>              <td> </td>    \n",
       "</tr>\n",
       "<tr>\n",
       "  <th>Covariance Type:</th>      <td>nonrobust</td>    <th>                     </th>              <td> </td>    \n",
       "</tr>\n",
       "</table>\n",
       "<table class=\"simpletable\">\n",
       "<tr>\n",
       "      <td></td>         <th>coef</th>     <th>std err</th>      <th>t</th>      <th>P>|t|</th>  <th>[0.025</th>    <th>0.975]</th>  \n",
       "</tr>\n",
       "<tr>\n",
       "  <th>Frequency</th> <td>    7.9291</td> <td>    0.416</td> <td>   19.056</td> <td> 0.000</td> <td>    7.113</td> <td>    8.745</td>\n",
       "</tr>\n",
       "</table>\n",
       "<table class=\"simpletable\">\n",
       "<tr>\n",
       "  <th>Omnibus:</th>       <td>5923.176</td> <th>  Durbin-Watson:     </th>  <td>   0.694</td>  \n",
       "</tr>\n",
       "<tr>\n",
       "  <th>Prob(Omnibus):</th>  <td> 0.000</td>  <th>  Jarque-Bera (JB):  </th> <td>3853539.229</td>\n",
       "</tr>\n",
       "<tr>\n",
       "  <th>Skew:</th>           <td>10.278</td>  <th>  Prob(JB):          </th>  <td>    0.00</td>  \n",
       "</tr>\n",
       "<tr>\n",
       "  <th>Kurtosis:</th>       <td>159.651</td> <th>  Cond. No.          </th>  <td>    1.00</td>  \n",
       "</tr>\n",
       "</table><br/><br/>Warnings:<br/>[1] Standard Errors assume that the covariance matrix of the errors is correctly specified."
      ],
      "text/plain": [
       "<class 'statsmodels.iolib.summary.Summary'>\n",
       "\"\"\"\n",
       "                                 OLS Regression Results                                \n",
       "=======================================================================================\n",
       "Dep. Variable:          Unique Clicks   R-squared (uncentered):                   0.089\n",
       "Model:                            OLS   Adj. R-squared (uncentered):              0.089\n",
       "Method:                 Least Squares   F-statistic:                              363.1\n",
       "Date:                Thu, 14 Nov 2019   Prob (F-statistic):                    2.64e-77\n",
       "Time:                        05:27:39   Log-Likelihood:                         -17307.\n",
       "No. Observations:                3705   AIC:                                  3.462e+04\n",
       "Df Residuals:                    3704   BIC:                                  3.462e+04\n",
       "Df Model:                           1                                                  \n",
       "Covariance Type:            nonrobust                                                  \n",
       "==============================================================================\n",
       "                 coef    std err          t      P>|t|      [0.025      0.975]\n",
       "------------------------------------------------------------------------------\n",
       "Frequency      7.9291      0.416     19.056      0.000       7.113       8.745\n",
       "==============================================================================\n",
       "Omnibus:                     5923.176   Durbin-Watson:                   0.694\n",
       "Prob(Omnibus):                  0.000   Jarque-Bera (JB):          3853539.229\n",
       "Skew:                          10.278   Prob(JB):                         0.00\n",
       "Kurtosis:                     159.651   Cond. No.                         1.00\n",
       "==============================================================================\n",
       "\n",
       "Warnings:\n",
       "[1] Standard Errors assume that the covariance matrix of the errors is correctly specified.\n",
       "\"\"\""
      ]
     },
     "execution_count": 184,
     "metadata": {
      "tags": []
     },
     "output_type": "execute_result"
    }
   ],
   "source": [
    "#Setting different Variables and running the OLS against it.\n",
    "X = df['Frequency']\n",
    "y = df['Unique Clicks']\n",
    "\n",
    "# Note the difference in argument order\n",
    "model = sm.OLS(y, X).fit()\n",
    "predictions = model.predict(X) # make the predictions by the model\n",
    "\n",
    "# Print out the statistics\n",
    "model.summary()"
   ]
  }
 ],
 "metadata": {
  "colab": {
   "collapsed_sections": [],
   "name": "Python Exercise 1: Basic Ad Analyses",
   "provenance": []
  },
  "kernelspec": {
   "display_name": "Python 3",
   "language": "python",
   "name": "python3"
  },
  "language_info": {
   "codemirror_mode": {
    "name": "ipython",
    "version": 3
   },
   "file_extension": ".py",
   "mimetype": "text/x-python",
   "name": "python",
   "nbconvert_exporter": "python",
   "pygments_lexer": "ipython3",
   "version": "3.7.3"
  }
 },
 "nbformat": 4,
 "nbformat_minor": 4
}
